{
 "cells": [
  {
   "cell_type": "code",
   "execution_count": 1,
   "metadata": {},
   "outputs": [],
   "source": [
    "import pandas as pd\n",
    "urls_sj_20171221 = [\n",
    "  u'https://mesonet.agron.iastate.edu/cgi-bin/request/asos.py?data=all&tz=Etc/UTC&format=comma&latlon=yes&year1=1993&month1=01&day1=01&year2=2017&month2=12&day2=21&&station=FFZ',\n",
    "  u'https://mesonet.agron.iastate.edu/cgi-bin/request/asos.py?data=all&tz=Etc/UTC&format=comma&latlon=yes&year1=1993&month1=01&day1=01&year2=2017&month2=12&day2=21&&station=PHX',\n",
    "  u'https://mesonet.agron.iastate.edu/cgi-bin/request/asos.py?data=all&tz=Etc/UTC&format=comma&latlon=yes&year1=1993&month1=01&day1=01&year2=2017&month2=12&day2=21&&station=SDL'\n",
    "]\n",
    "phx_df = pd.read_csv(urls_sj_20171221[1], comment=\"#\", skipinitialspace=True, na_values=[\"M\"],\n",
    "                     index_col=1,\n",
    "                     infer_datetime_format=True, parse_dates=[1])\n",
    "save_name = \"PHX-%s-%s.csv\" % (str(phx_df.index[0].date()).replace(\" \" ,\"_\"), str(phx_df.index[-1].date()).replace(\" \", \"_\"))\n",
    "phx_df.to_csv(save_name)"
   ]
  },
  {
   "cell_type": "code",
   "execution_count": null,
   "metadata": {},
   "outputs": [],
   "source": [
    "phx_df\n"
   ]
  }
 ],
 "metadata": {
  "kernelspec": {
   "display_name": "Python 3",
   "language": "python",
   "name": "python3"
  },
  "language_info": {
   "codemirror_mode": {
    "name": "ipython",
    "version": 3
   },
   "file_extension": ".py",
   "mimetype": "text/x-python",
   "name": "python",
   "nbconvert_exporter": "python",
   "pygments_lexer": "ipython3",
   "version": "3.6.3"
  }
 },
 "nbformat": 4,
 "nbformat_minor": 2
}
